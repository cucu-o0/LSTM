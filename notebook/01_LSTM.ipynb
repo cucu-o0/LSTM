{
 "cells": [
  {
   "cell_type": "markdown",
   "id": "sitting-class",
   "metadata": {},
   "source": [
    "# SAG mill prediction"
   ]
  },
  {
   "cell_type": "markdown",
   "id": "pleasant-insurance",
   "metadata": {},
   "source": [
    "The goal of the project is to devise and implement a prototype data-driven\n",
    "prediction model of a Semi-autogenous (SAG) Mill."
   ]
  },
  {
   "cell_type": "markdown",
   "id": "8592d6da",
   "metadata": {},
   "source": [
    "In this notebook, we want to create a model with multiple inputs to predict performance variables 5 minutes in advance.\n",
    "\n",
    "We use a **Multi Variate- Multi Steps Long Short Term Model (LSTM)**."
   ]
  },
  {
   "cell_type": "markdown",
   "id": "77ee2952",
   "metadata": {},
   "source": [
    "## Multi Variate/ Multi Steps LSTM"
   ]
  },
  {
   "cell_type": "markdown",
   "id": "192ffb15",
   "metadata": {},
   "source": [
    "Long-Short-Term Memory (LSTM) is the next generation of Recurrent Neural Network (RNN) used in deep learning for its optimized architecture to easily capture the pattern in sequential data. \n",
    "\n",
    "The benefit of this type of network is that it can learn and remember over long sequences and does not rely on pre-specified window lagged observation as input."
   ]
  },
  {
   "cell_type": "markdown",
   "id": "english-charlotte",
   "metadata": {},
   "source": [
    "## Importing libraries"
   ]
  },
  {
   "cell_type": "code",
   "execution_count": 1,
   "id": "every-spending",
   "metadata": {},
   "outputs": [],
   "source": [
    "# General\n",
    "import pandas as pd\n",
    "import numpy as np\n",
    "from scipy import interpolate\n",
    "import itertools\n",
    "\n",
    "# Plotting\n",
    "import matplotlib.pyplot as plt\n",
    "%matplotlib inline\n",
    "from matplotlib.pylab import rcParams\n",
    "rcParams['figure.figsize'] = 8, 6\n",
    "plt.style.use('seaborn')\n",
    "\n",
    "# Warnings\n",
    "import warnings\n",
    "warnings.filterwarnings('ignore')"
   ]
  },
  {
   "cell_type": "code",
   "execution_count": 2,
   "id": "2c61cc77",
   "metadata": {},
   "outputs": [],
   "source": [
    "# Statistical models\n",
    "import statsmodels.api as sm\n",
    "from statsmodels.tsa.stattools import adfuller"
   ]
  },
  {
   "cell_type": "code",
   "execution_count": 3,
   "id": "nearby-usage",
   "metadata": {},
   "outputs": [],
   "source": [
    "# LSTM\n",
    "from sklearn.preprocessing import MinMaxScaler\n",
    "from sklearn.metrics import mean_squared_error\n",
    "\n",
    "import keras.callbacks\n",
    "from keras.models import Sequential\n",
    "from keras.layers import Dense,Activation,Flatten,Dropout\n",
    "from tensorflow.keras.layers import LSTM"
   ]
  },
  {
   "cell_type": "markdown",
   "id": "08534d58",
   "metadata": {},
   "source": [
    "## Loading data"
   ]
  },
  {
   "cell_type": "code",
   "execution_count": 4,
   "id": "1a26bbb0",
   "metadata": {},
   "outputs": [],
   "source": [
    "# Load dataset\n",
    "df_eda = pd.read_csv('input/sag_data_EDA.csv', header=0, index_col=0)\n",
    "values = df_eda.values"
   ]
  },
  {
   "cell_type": "code",
   "execution_count": 5,
   "id": "5cb8e5d1",
   "metadata": {
    "scrolled": true
   },
   "outputs": [
    {
     "data": {
      "text/html": [
       "<div>\n",
       "<style scoped>\n",
       "    .dataframe tbody tr th:only-of-type {\n",
       "        vertical-align: middle;\n",
       "    }\n",
       "\n",
       "    .dataframe tbody tr th {\n",
       "        vertical-align: top;\n",
       "    }\n",
       "\n",
       "    .dataframe thead th {\n",
       "        text-align: right;\n",
       "    }\n",
       "</style>\n",
       "<table border=\"1\" class=\"dataframe\">\n",
       "  <thead>\n",
       "    <tr style=\"text-align: right;\">\n",
       "      <th></th>\n",
       "      <th>Bearing Pressure (kPa)</th>\n",
       "      <th>Power Draw (MW)</th>\n",
       "      <th>Speed (RPM)</th>\n",
       "      <th>Dilution Flow Rate (m3/h)</th>\n",
       "      <th>Conveyor Belt Feed Rate (t/h)</th>\n",
       "      <th>Conveyor Belt PSD Fines (%)</th>\n",
       "    </tr>\n",
       "    <tr>\n",
       "      <th>Time</th>\n",
       "      <th></th>\n",
       "      <th></th>\n",
       "      <th></th>\n",
       "      <th></th>\n",
       "      <th></th>\n",
       "      <th></th>\n",
       "    </tr>\n",
       "  </thead>\n",
       "  <tbody>\n",
       "    <tr>\n",
       "      <th>2015-12-21 00:00:00</th>\n",
       "      <td>5364.649789</td>\n",
       "      <td>12.762004</td>\n",
       "      <td>8.073871</td>\n",
       "      <td>1073.169397</td>\n",
       "      <td>2940.881221</td>\n",
       "      <td>40.390537</td>\n",
       "    </tr>\n",
       "    <tr>\n",
       "      <th>2015-12-21 00:01:00</th>\n",
       "      <td>5343.775163</td>\n",
       "      <td>12.491533</td>\n",
       "      <td>7.889129</td>\n",
       "      <td>1057.823776</td>\n",
       "      <td>3042.468414</td>\n",
       "      <td>44.751640</td>\n",
       "    </tr>\n",
       "    <tr>\n",
       "      <th>2015-12-21 00:02:00</th>\n",
       "      <td>5350.858199</td>\n",
       "      <td>12.290888</td>\n",
       "      <td>7.970280</td>\n",
       "      <td>1036.836364</td>\n",
       "      <td>2959.495635</td>\n",
       "      <td>42.130604</td>\n",
       "    </tr>\n",
       "  </tbody>\n",
       "</table>\n",
       "</div>"
      ],
      "text/plain": [
       "                     Bearing Pressure (kPa)  Power Draw (MW)  Speed (RPM)  \\\n",
       "Time                                                                        \n",
       "2015-12-21 00:00:00             5364.649789        12.762004     8.073871   \n",
       "2015-12-21 00:01:00             5343.775163        12.491533     7.889129   \n",
       "2015-12-21 00:02:00             5350.858199        12.290888     7.970280   \n",
       "\n",
       "                     Dilution Flow Rate (m3/h)  Conveyor Belt Feed Rate (t/h)  \\\n",
       "Time                                                                            \n",
       "2015-12-21 00:00:00                1073.169397                    2940.881221   \n",
       "2015-12-21 00:01:00                1057.823776                    3042.468414   \n",
       "2015-12-21 00:02:00                1036.836364                    2959.495635   \n",
       "\n",
       "                     Conveyor Belt PSD Fines (%)  \n",
       "Time                                              \n",
       "2015-12-21 00:00:00                    40.390537  \n",
       "2015-12-21 00:01:00                    44.751640  \n",
       "2015-12-21 00:02:00                    42.130604  "
      ]
     },
     "execution_count": 5,
     "metadata": {},
     "output_type": "execute_result"
    }
   ],
   "source": [
    "df_eda.head(3)"
   ]
  },
  {
   "cell_type": "code",
   "execution_count": 6,
   "id": "9010af2a",
   "metadata": {},
   "outputs": [
    {
     "data": {
      "text/plain": [
       "(28801, 6)"
      ]
     },
     "execution_count": 6,
     "metadata": {},
     "output_type": "execute_result"
    }
   ],
   "source": [
    "df_eda.shape"
   ]
  },
  {
   "cell_type": "code",
   "execution_count": 7,
   "id": "39e13be9",
   "metadata": {},
   "outputs": [
    {
     "data": {
      "text/plain": [
       "Index(['Bearing Pressure (kPa)', 'Power Draw (MW)', 'Speed (RPM)',\n",
       "       'Dilution Flow Rate (m3/h)', 'Conveyor Belt Feed Rate (t/h)',\n",
       "       'Conveyor Belt PSD Fines (%)'],\n",
       "      dtype='object')"
      ]
     },
     "execution_count": 7,
     "metadata": {},
     "output_type": "execute_result"
    }
   ],
   "source": [
    "col = df_eda.columns\n",
    "col"
   ]
  },
  {
   "cell_type": "markdown",
   "id": "05822cac",
   "metadata": {},
   "source": [
    "<!-- Rearrange the dataframe with Bearing Pressure and Power Draw as last columns -->"
   ]
  },
  {
   "cell_type": "markdown",
   "id": "cc135c94",
   "metadata": {},
   "source": [
    "## Building the LSTM Forecast Model"
   ]
  },
  {
   "cell_type": "markdown",
   "id": "0395a1b8",
   "metadata": {},
   "source": [
    "We define a function to convert times series into supervised learning problem."
   ]
  },
  {
   "cell_type": "code",
   "execution_count": 8,
   "id": "920205f3",
   "metadata": {},
   "outputs": [],
   "source": [
    "# From: machinelearningmastery.com/blog/\n",
    "\n",
    "def time_series_to_supervised(data, n_lag = 1, n_fut = 1, selLag = None, sel_fut = None, dropnan = True):\n",
    "    \"\"\"\n",
    "    Converts a time series to a supervised learning data set by adding time-shifted prior and future period\n",
    "    data as input or output (i.e., target result) columns for each period\n",
    "    \n",
    "    - data:  a series of periodic attributes\n",
    "    - n_lag: number of prior periods to lag as input (X)\n",
    "    - n_fut: number of future periods to add as target output (y)\n",
    "    - selLag:  only copy these specific PRIOR period attributes\n",
    "    - selFut:  only copy these specific FUTURE period attributes\n",
    "    - dropnan: True= drop rows with NaN values\n",
    "    \"\"\"\n",
    "    \n",
    "    n_vars = 1 if type(data) is list else data.shape[1]\n",
    "    df = pd.DataFrame(data)\n",
    "    origNames = df.columns\n",
    "    \n",
    "    cols, names = list(), list()\n",
    "    \n",
    "    # Include all current period attributes\n",
    "    cols.append(df.shift(0))\n",
    "    names += [('%s' % origNames[j]) for j in range(n_vars)]\n",
    " \n",
    "    # Lag any past period attributes (t-n_lag,...,t-1)\n",
    "    n_lag = max(0, n_lag)  # force valid number of lag periods\n",
    "    for i in range(n_lag, 0, -1):\n",
    "        suffix= '(t-%d)' % i\n",
    "        if (None == selLag):   # copy all attributes from PRIOR periods?\n",
    "            cols.append(df.shift(i))\n",
    "            names += [('%s%s' % (origNames[j], suffix)) for j in range(n_vars)]\n",
    "        else:\n",
    "            for var in (selLag):\n",
    "                cols.append(df[var].shift(i))\n",
    "                names += [('%s%s' % (var, suffix))]\n",
    " \n",
    "    # Include future period attributes (t+1,...,t+n_fut)\n",
    "    n_fut = max(n_fut, 0)  # force valid number of future periods to shift back\n",
    "    for i in range(1, n_fut + 1):\n",
    "        suffix= '(t+%d)' % i\n",
    "        if (None == sel_fut):  # copy all attributes from future periods?\n",
    "            cols.append(df.shift(-i))\n",
    "            names += [('%s%s' % (origNames[j], suffix)) for j in range(n_vars)]\n",
    "        else:  # copy only selected future attributes\n",
    "            for var in (sel_fut):\n",
    "                cols.append(df[var].shift(-i))\n",
    "                names += [('%s%s' % (var, suffix))]\n",
    "                \n",
    "    # Combine everything\n",
    "    agg = pd.concat(cols, axis=1)\n",
    "    agg.columns = names\n",
    "    \n",
    "    # drop rows with NaN values introduced by lagging\n",
    "    if dropnan:\n",
    "        agg.dropna(inplace=True)\n",
    "    return agg"
   ]
  },
  {
   "cell_type": "markdown",
   "id": "00322223",
   "metadata": {},
   "source": [
    "Problem Framing:\n",
    "\n",
    "    Multivariate\n",
    "    - Bearing Pressure (kPa), Power Draw (MW), Speed (RPM), Dilution Flow Rate (m3/h), Conveyor Belt Feed Rate (t/h), Conveyor Belt PSD Fines (%)\n",
    "    \n",
    "    Multivariate, multistep output \n",
    "    - Bearing Pressure (kPa), Power Draw (MW)\n",
    "    \n",
    "    Predict the next 5 minutes Bearing Pressure/ Power Draw using the previous 20 minutess"
   ]
  },
  {
   "cell_type": "markdown",
   "id": "e0634b65",
   "metadata": {},
   "source": [
    "We define the variables of the problem."
   ]
  },
  {
   "cell_type": "code",
   "execution_count": 9,
   "id": "3b5b8e9f",
   "metadata": {},
   "outputs": [],
   "source": [
    "# Input\n",
    "n_features_in = 6\n",
    "n_features_out = 1\n",
    "\n",
    "# Output\n",
    "n_lags_in = 20\n",
    "n_lags_out = 5"
   ]
  },
  {
   "cell_type": "markdown",
   "id": "9542decc",
   "metadata": {},
   "source": [
    "Rearrange the data to a **supervised learning problem** using the time_series_to_supervised function."
   ]
  },
  {
   "cell_type": "code",
   "execution_count": 11,
   "id": "f97a2a67",
   "metadata": {},
   "outputs": [],
   "source": [
    "# Target columns specified in the baseline\n",
    "target_cols = ['Bearing Pressure (kPa)', 'Power Draw (MW)']"
   ]
  },
  {
   "cell_type": "code",
   "execution_count": 12,
   "id": "2254ac92",
   "metadata": {},
   "outputs": [],
   "source": [
    "# Bearing Pressure (kPa)\n",
    "prx = time_series_to_supervised(df_eda, n_lag = n_lags_in, n_fut = n_lags_out, sel_fut = [target_cols[0]])\n",
    "\n",
    "# Power Draw (MW)\n",
    "# pwr = time_series_to_supervised(df_eda, n_lag = n_lags_in, n_fut = n_lags_out, sel_fut = [target_cols[1]])"
   ]
  },
  {
   "cell_type": "code",
   "execution_count": 13,
   "id": "dbdf0642",
   "metadata": {},
   "outputs": [
    {
     "data": {
      "text/html": [
       "<div>\n",
       "<style scoped>\n",
       "    .dataframe tbody tr th:only-of-type {\n",
       "        vertical-align: middle;\n",
       "    }\n",
       "\n",
       "    .dataframe tbody tr th {\n",
       "        vertical-align: top;\n",
       "    }\n",
       "\n",
       "    .dataframe thead th {\n",
       "        text-align: right;\n",
       "    }\n",
       "</style>\n",
       "<table border=\"1\" class=\"dataframe\">\n",
       "  <thead>\n",
       "    <tr style=\"text-align: right;\">\n",
       "      <th></th>\n",
       "      <th>Bearing Pressure (kPa)</th>\n",
       "      <th>Power Draw (MW)</th>\n",
       "      <th>Speed (RPM)</th>\n",
       "      <th>Dilution Flow Rate (m3/h)</th>\n",
       "      <th>Conveyor Belt Feed Rate (t/h)</th>\n",
       "      <th>Conveyor Belt PSD Fines (%)</th>\n",
       "      <th>Bearing Pressure (kPa)(t-20)</th>\n",
       "      <th>Power Draw (MW)(t-20)</th>\n",
       "      <th>Speed (RPM)(t-20)</th>\n",
       "      <th>Dilution Flow Rate (m3/h)(t-20)</th>\n",
       "      <th>...</th>\n",
       "      <th>Power Draw (MW)(t-1)</th>\n",
       "      <th>Speed (RPM)(t-1)</th>\n",
       "      <th>Dilution Flow Rate (m3/h)(t-1)</th>\n",
       "      <th>Conveyor Belt Feed Rate (t/h)(t-1)</th>\n",
       "      <th>Conveyor Belt PSD Fines (%)(t-1)</th>\n",
       "      <th>Bearing Pressure (kPa)(t+1)</th>\n",
       "      <th>Bearing Pressure (kPa)(t+2)</th>\n",
       "      <th>Bearing Pressure (kPa)(t+3)</th>\n",
       "      <th>Bearing Pressure (kPa)(t+4)</th>\n",
       "      <th>Bearing Pressure (kPa)(t+5)</th>\n",
       "    </tr>\n",
       "    <tr>\n",
       "      <th>Time</th>\n",
       "      <th></th>\n",
       "      <th></th>\n",
       "      <th></th>\n",
       "      <th></th>\n",
       "      <th></th>\n",
       "      <th></th>\n",
       "      <th></th>\n",
       "      <th></th>\n",
       "      <th></th>\n",
       "      <th></th>\n",
       "      <th></th>\n",
       "      <th></th>\n",
       "      <th></th>\n",
       "      <th></th>\n",
       "      <th></th>\n",
       "      <th></th>\n",
       "      <th></th>\n",
       "      <th></th>\n",
       "      <th></th>\n",
       "      <th></th>\n",
       "      <th></th>\n",
       "    </tr>\n",
       "  </thead>\n",
       "  <tbody>\n",
       "    <tr>\n",
       "      <th>2015-12-21 00:20:00</th>\n",
       "      <td>5377.294125</td>\n",
       "      <td>12.235626</td>\n",
       "      <td>7.867987</td>\n",
       "      <td>1071.660896</td>\n",
       "      <td>2955.094739</td>\n",
       "      <td>46.442123</td>\n",
       "      <td>5364.649789</td>\n",
       "      <td>12.762004</td>\n",
       "      <td>8.073871</td>\n",
       "      <td>1073.169397</td>\n",
       "      <td>...</td>\n",
       "      <td>12.314965</td>\n",
       "      <td>7.861659</td>\n",
       "      <td>1075.353614</td>\n",
       "      <td>3047.464287</td>\n",
       "      <td>42.888683</td>\n",
       "      <td>5425.893849</td>\n",
       "      <td>5427.745119</td>\n",
       "      <td>5397.426528</td>\n",
       "      <td>5419.989363</td>\n",
       "      <td>5399.19581</td>\n",
       "    </tr>\n",
       "  </tbody>\n",
       "</table>\n",
       "<p>1 rows × 131 columns</p>\n",
       "</div>"
      ],
      "text/plain": [
       "                     Bearing Pressure (kPa)  Power Draw (MW)  Speed (RPM)  \\\n",
       "Time                                                                        \n",
       "2015-12-21 00:20:00             5377.294125        12.235626     7.867987   \n",
       "\n",
       "                     Dilution Flow Rate (m3/h)  Conveyor Belt Feed Rate (t/h)  \\\n",
       "Time                                                                            \n",
       "2015-12-21 00:20:00                1071.660896                    2955.094739   \n",
       "\n",
       "                     Conveyor Belt PSD Fines (%)  \\\n",
       "Time                                               \n",
       "2015-12-21 00:20:00                    46.442123   \n",
       "\n",
       "                     Bearing Pressure (kPa)(t-20)  Power Draw (MW)(t-20)  \\\n",
       "Time                                                                       \n",
       "2015-12-21 00:20:00                   5364.649789              12.762004   \n",
       "\n",
       "                     Speed (RPM)(t-20)  Dilution Flow Rate (m3/h)(t-20)  ...  \\\n",
       "Time                                                                     ...   \n",
       "2015-12-21 00:20:00           8.073871                      1073.169397  ...   \n",
       "\n",
       "                     Power Draw (MW)(t-1)  Speed (RPM)(t-1)  \\\n",
       "Time                                                          \n",
       "2015-12-21 00:20:00             12.314965          7.861659   \n",
       "\n",
       "                     Dilution Flow Rate (m3/h)(t-1)  \\\n",
       "Time                                                  \n",
       "2015-12-21 00:20:00                     1075.353614   \n",
       "\n",
       "                     Conveyor Belt Feed Rate (t/h)(t-1)  \\\n",
       "Time                                                      \n",
       "2015-12-21 00:20:00                         3047.464287   \n",
       "\n",
       "                     Conveyor Belt PSD Fines (%)(t-1)  \\\n",
       "Time                                                    \n",
       "2015-12-21 00:20:00                         42.888683   \n",
       "\n",
       "                     Bearing Pressure (kPa)(t+1)  Bearing Pressure (kPa)(t+2)  \\\n",
       "Time                                                                            \n",
       "2015-12-21 00:20:00                  5425.893849                  5427.745119   \n",
       "\n",
       "                     Bearing Pressure (kPa)(t+3)  Bearing Pressure (kPa)(t+4)  \\\n",
       "Time                                                                            \n",
       "2015-12-21 00:20:00                  5397.426528                  5419.989363   \n",
       "\n",
       "                     Bearing Pressure (kPa)(t+5)  \n",
       "Time                                              \n",
       "2015-12-21 00:20:00                   5399.19581  \n",
       "\n",
       "[1 rows x 131 columns]"
      ]
     },
     "execution_count": 13,
     "metadata": {},
     "output_type": "execute_result"
    }
   ],
   "source": [
    "prx.head(1)"
   ]
  },
  {
   "cell_type": "code",
   "execution_count": 14,
   "id": "6489f061",
   "metadata": {},
   "outputs": [
    {
     "data": {
      "text/plain": [
       "(28776, 131)"
      ]
     },
     "execution_count": 14,
     "metadata": {},
     "output_type": "execute_result"
    }
   ],
   "source": [
    "prx.shape"
   ]
  },
  {
   "cell_type": "code",
   "execution_count": 15,
   "id": "73c4e103",
   "metadata": {},
   "outputs": [],
   "source": [
    "# pwr.head(1)"
   ]
  },
  {
   "cell_type": "code",
   "execution_count": 16,
   "id": "4857f4a3",
   "metadata": {},
   "outputs": [],
   "source": [
    "# pwr.shape"
   ]
  },
  {
   "cell_type": "markdown",
   "id": "1fce6e99",
   "metadata": {},
   "source": [
    "<font color='red'>\n",
    "Note: For this exercise, we will only make predictions on the 'Bearing Pressure (kPa)' column. \n",
    "</font>"
   ]
  },
  {
   "cell_type": "markdown",
   "id": "0b5c18d8",
   "metadata": {},
   "source": [
    "We end up with 20x6 + 5x2 + 6 = 131 columns. That splits as:\n",
    "\n",
    "- 20 x 6 = n_in x n_features (in)\n",
    "- 5 x 2 = n_out x n_features (out)\n",
    "- 1 x 6 = n_features a time t"
   ]
  },
  {
   "cell_type": "code",
   "execution_count": 17,
   "id": "11ec2141",
   "metadata": {},
   "outputs": [],
   "source": [
    "def df_columns(df):\n",
    "    for i in prx.columns:\n",
    "        print(i)"
   ]
  },
  {
   "cell_type": "code",
   "execution_count": 18,
   "id": "054c71b9",
   "metadata": {},
   "outputs": [],
   "source": [
    "# prx_col = df_columns(prx)\n",
    "# prx_col"
   ]
  },
  {
   "cell_type": "code",
   "execution_count": 19,
   "id": "3985475b",
   "metadata": {},
   "outputs": [],
   "source": [
    "# pwr_col = df_columns(pwr)\n",
    "# pwr_col"
   ]
  },
  {
   "cell_type": "code",
   "execution_count": 20,
   "id": "4a4f68a1",
   "metadata": {},
   "outputs": [
    {
     "name": "stdout",
     "output_type": "stream",
     "text": [
      "Number of observations in: 120\n",
      "Number of predictions out: 5\n",
      "\n",
      "Shape of X: (28776, 120)\n",
      "Shape of y: (28776, 5)\n"
     ]
    }
   ],
   "source": [
    "n_obs_in = (n_features_in * n_lags_in)\n",
    "n_obs_out = (n_features_out * n_lags_out)\n",
    "print ('Number of observations in:',n_obs_in)\n",
    "print ('Number of predictions out:', n_obs_out)\n",
    "\n",
    "# Creating X, y from data_test\n",
    "X = prx.values[:, :n_obs_in]\n",
    "y = prx.values[:, -n_obs_out:]\n",
    "print ('\\nShape of X:',X.shape)\n",
    "print ('Shape of y:', y.shape)"
   ]
  },
  {
   "cell_type": "code",
   "execution_count": 21,
   "id": "492e79c1",
   "metadata": {},
   "outputs": [],
   "source": [
    "# Normalize data with a scaler\n",
    "X_scaler = MinMaxScaler(feature_range=(0,1)).fit(X)\n",
    "y_scaler = MinMaxScaler(feature_range=(0,1)).fit(y)"
   ]
  },
  {
   "cell_type": "markdown",
   "id": "c22476f2",
   "metadata": {},
   "source": [
    "### Split Dataset"
   ]
  },
  {
   "cell_type": "markdown",
   "id": "7721b4fb",
   "metadata": {},
   "source": [
    "We split the prepared dataset into train and test sets.\n",
    "\n",
    "- Total = 20 days\n",
    "- Train = 70% tot (14 days)\n",
    "- Test = 30% tot (6 days)"
   ]
  },
  {
   "cell_type": "code",
   "execution_count": 22,
   "id": "99b30314",
   "metadata": {},
   "outputs": [
    {
     "name": "stdout",
     "output_type": "stream",
     "text": [
      "Training minutes: 20160\n",
      "Test minutes: 8641\n",
      "Total minutes: 28801\n"
     ]
    }
   ],
   "source": [
    "# Train/test set\n",
    "n_tot = df_eda.shape[0]\n",
    "n_train = int(0.7 * df_eda.shape[0])\n",
    "n_test = n_tot - n_train\n",
    "\n",
    "print(f'Training minutes: {str(n_train)}')\n",
    "print(f'Test minutes: {str(n_test)}')\n",
    "print(f'Total minutes: {str(n_tot)}')"
   ]
  },
  {
   "cell_type": "code",
   "execution_count": 23,
   "id": "c7540856",
   "metadata": {},
   "outputs": [
    {
     "name": "stdout",
     "output_type": "stream",
     "text": [
      "Shape of splits:\n",
      "(20160, 120) (20160, 5) (8616, 120) (8616, 5)\n"
     ]
    }
   ],
   "source": [
    "# Split X, y into train/test\n",
    "X_train, y_train = X[:n_train, :], y[:n_train, :]\n",
    "X_test, y_test = X[n_train:, :], y[n_train:, :]\n",
    "\n",
    "print('Shape of splits:')\n",
    "print(X_train.shape, y_train.shape, X_test.shape, y_test.shape)"
   ]
  },
  {
   "cell_type": "code",
   "execution_count": 24,
   "id": "5e9d3750",
   "metadata": {},
   "outputs": [],
   "source": [
    "# Scale the data with Scaler\n",
    "X_train, y_train = X_scaler.transform(X_train), y_scaler.transform(y_train)\n",
    "X_test, y_test = X_scaler.transform(X_test), y_scaler.transform(y_test)"
   ]
  },
  {
   "cell_type": "code",
   "execution_count": 25,
   "id": "38bc1dfd",
   "metadata": {},
   "outputs": [
    {
     "name": "stdout",
     "output_type": "stream",
     "text": [
      "Re-shaped for LSTM:\n",
      "(20160, 20, 6) (20160, 5) (8616, 20, 6) (8616, 5)\n"
     ]
    }
   ],
   "source": [
    "# Reshape input to be 3D [samples, timesteps, features] for LSTM\n",
    "X_train = X_train.reshape((X_train.shape[0], n_lags_in, n_features_in))\n",
    "X_test = X_test.reshape((X_test.shape[0], n_lags_in, n_features_in))\n",
    "\n",
    "print('Re-shaped for LSTM:')\n",
    "print(X_train.shape, y_train.shape, X_test.shape, y_test.shape)"
   ]
  },
  {
   "cell_type": "code",
   "execution_count": 26,
   "id": "60ec1b13",
   "metadata": {},
   "outputs": [
    {
     "name": "stdout",
     "output_type": "stream",
     "text": [
      "--- Input ---\n",
      "[[0.6895872  0.8185136  0.20558113 0.64470029 0.83861287 0.55936956]\n",
      " [0.66847025 0.85366288 0.21096063 0.64560779 0.83457928 0.48648157]\n",
      " [0.63360813 0.83560199 0.20613354 0.63637602 0.86340825 0.53900863]\n",
      " [0.6454373  0.82220375 0.20825392 0.62375021 0.83986178 0.5074397 ]\n",
      " [0.66260647 0.85528319 0.21657374 0.63464399 0.84975404 0.46269234]\n",
      " [0.55187413 0.87024098 0.21638834 0.65250819 0.83756758 0.54224524]\n",
      " [0.57919572 0.85829236 0.2108614  0.64905721 0.84999961 0.49137255]\n",
      " [0.61373797 0.84568887 0.20857962 0.62585719 0.8455655  0.47545735]\n",
      " [0.61788996 0.82704206 0.20576647 0.63268383 0.8537265  0.58050872]\n",
      " [0.60247193 0.8248652  0.2083284  0.63940192 0.83905431 0.53571371]\n",
      " [0.57607991 0.85533239 0.21004716 0.62114954 0.85979314 0.44497298]\n",
      " [0.64677251 0.83817065 0.2087591  0.62023288 0.84092975 0.50190519]\n",
      " [0.59434296 0.83483188 0.20885052 0.63402412 0.85421556 0.46628503]\n",
      " [0.64403815 0.87041786 0.21455387 0.63548524 0.85104802 0.50743111]\n",
      " [0.6146136  0.86099252 0.2143709  0.63241729 0.85865714 0.48509386]\n",
      " [0.55556975 0.84126309 0.20876005 0.64032629 0.85137712 0.55555177]\n",
      " [0.66429629 0.8275656  0.20613539 0.63719238 0.86690856 0.5015532 ]\n",
      " [0.61022265 0.87021049 0.2119552  0.63917808 0.84981083 0.56721666]\n",
      " [0.65491705 0.84274402 0.20634759 0.64534134 0.8676516  0.51411927]\n",
      " [0.63679149 0.82763293 0.20525046 0.63497699 0.85314031 0.60819747]]\n",
      "\n",
      "--- Output ---\n",
      "[0.77075222 0.77384397 0.72320975 0.7608913  0.72616458]\n"
     ]
    }
   ],
   "source": [
    "# Visualizing the input and output being sent to the LSTM model\n",
    "# Based on last 20 minutes we are learning the next 5 minutes\n",
    "for inp, out in zip(X_train[0:1], y_train[0:1]):\n",
    "    print('--- Input ---')\n",
    "    print(inp)\n",
    "    print('\\n--- Output ---')\n",
    "    print(out)"
   ]
  },
  {
   "cell_type": "markdown",
   "id": "fe793b76",
   "metadata": {},
   "source": [
    "### Define and fit the Model"
   ]
  },
  {
   "cell_type": "markdown",
   "id": "89087546",
   "metadata": {},
   "source": [
    "We define the LSTM with 50 neurons in the first hidden layer and 5 neurons in the output layer (5 future values). The input shape is 20 time step with 6 features.\n",
    "\n",
    "We will use the Mean Absolute Error (MAE) loss function and the efficient Adam version of stochastic gradient descent."
   ]
  },
  {
   "cell_type": "code",
   "execution_count": 27,
   "id": "77c487f2",
   "metadata": {},
   "outputs": [],
   "source": [
    "# Design network\n",
    "model = Sequential()\n",
    "\n",
    "model.add(LSTM(50, activation = 'relu', return_sequences = True, input_shape = (n_lags_in, n_features_in)))\n",
    "model.add(LSTM(50, activation = 'relu'))\n",
    "model.add(Dense(n_lags_out))\n",
    "\n",
    "model.compile(optimizer ='adam', loss = 'mae')"
   ]
  },
  {
   "cell_type": "code",
   "execution_count": 28,
   "id": "fe2b9615",
   "metadata": {},
   "outputs": [
    {
     "name": "stdout",
     "output_type": "stream",
     "text": [
      "Model: \"sequential\"\n",
      "_________________________________________________________________\n",
      "Layer (type)                 Output Shape              Param #   \n",
      "=================================================================\n",
      "lstm (LSTM)                  (None, 20, 50)            11400     \n",
      "_________________________________________________________________\n",
      "lstm_1 (LSTM)                (None, 50)                20200     \n",
      "_________________________________________________________________\n",
      "dense (Dense)                (None, 5)                 255       \n",
      "=================================================================\n",
      "Total params: 31,855\n",
      "Trainable params: 31,855\n",
      "Non-trainable params: 0\n",
      "_________________________________________________________________\n"
     ]
    }
   ],
   "source": [
    "model.summary()"
   ]
  },
  {
   "cell_type": "markdown",
   "id": "6806203f",
   "metadata": {},
   "source": [
    "We define a function that finds the beat batch size for the model fit."
   ]
  },
  {
   "cell_type": "code",
   "execution_count": 29,
   "id": "79791494",
   "metadata": {},
   "outputs": [
    {
     "data": {
      "text/plain": [
       "24"
      ]
     },
     "execution_count": 29,
     "metadata": {},
     "output_type": "execute_result"
    }
   ],
   "source": [
    "def computeHCF(x, y):\n",
    "    \n",
    "    '''\n",
    "    Function that finds the highest common factor of both the length of train_X/test_X.\n",
    "    '''\n",
    "    if x > y:\n",
    "        smaller = y\n",
    "    else:\n",
    "        smaller = x\n",
    "    for i in range(1, smaller+1):\n",
    "        if((x % i == 0) and (y % i == 0)):\n",
    "            hcf = i\n",
    "\n",
    "    return hcf\n",
    "\n",
    "batch_size = computeHCF(X_train.shape[0], y_test.shape[0])\n",
    "batch_size"
   ]
  },
  {
   "cell_type": "code",
   "execution_count": 30,
   "id": "be4ba55e",
   "metadata": {},
   "outputs": [
    {
     "name": "stdout",
     "output_type": "stream",
     "text": [
      "Epoch 1/50\n",
      "840/840 [==============================] - 7s 8ms/step - loss: 0.0721 - val_loss: 0.0792\n",
      "Epoch 2/50\n",
      "840/840 [==============================] - 7s 8ms/step - loss: 0.0665 - val_loss: 0.0929\n",
      "Epoch 3/50\n",
      "840/840 [==============================] - 6s 8ms/step - loss: 0.0704 - val_loss: 0.0969\n",
      "Epoch 4/50\n",
      "840/840 [==============================] - 6s 7ms/step - loss: 0.0721 - val_loss: 0.0965\n",
      "Epoch 5/50\n",
      "840/840 [==============================] - 6s 8ms/step - loss: 0.0725 - val_loss: 0.0937\n",
      "Epoch 6/50\n",
      "840/840 [==============================] - 6s 7ms/step - loss: 0.0704 - val_loss: 0.0908\n",
      "Epoch 7/50\n",
      "840/840 [==============================] - 7s 8ms/step - loss: 0.0648 - val_loss: 0.0897\n",
      "Epoch 8/50\n",
      "840/840 [==============================] - 7s 8ms/step - loss: 0.0635 - val_loss: 0.0847\n",
      "Epoch 9/50\n",
      "840/840 [==============================] - 7s 8ms/step - loss: 0.0566 - val_loss: 0.0789\n",
      "Epoch 10/50\n",
      "840/840 [==============================] - 6s 8ms/step - loss: 0.0520 - val_loss: 0.0698\n",
      "Epoch 11/50\n",
      "840/840 [==============================] - 6s 8ms/step - loss: 0.0494 - val_loss: 0.0665\n",
      "Epoch 12/50\n",
      "840/840 [==============================] - 7s 8ms/step - loss: 0.0483 - val_loss: 0.0630\n",
      "Epoch 13/50\n",
      "840/840 [==============================] - 6s 7ms/step - loss: 0.0479 - val_loss: 0.0615\n",
      "Epoch 14/50\n",
      "840/840 [==============================] - 6s 8ms/step - loss: 0.0476 - val_loss: 0.0608\n",
      "Epoch 15/50\n",
      "840/840 [==============================] - 7s 8ms/step - loss: 0.0474 - val_loss: 0.0591\n",
      "Epoch 16/50\n",
      "840/840 [==============================] - 7s 8ms/step - loss: 0.0469 - val_loss: 0.0598\n",
      "Epoch 17/50\n",
      "840/840 [==============================] - 6s 8ms/step - loss: 0.0469 - val_loss: 0.0597\n",
      "Epoch 18/50\n",
      "840/840 [==============================] - 6s 8ms/step - loss: 0.0465 - val_loss: 0.0604\n",
      "Epoch 19/50\n",
      "840/840 [==============================] - 7s 8ms/step - loss: 0.0464 - val_loss: 0.0595\n",
      "Epoch 20/50\n",
      "840/840 [==============================] - 7s 8ms/step - loss: 0.0463 - val_loss: 0.0585\n",
      "Epoch 21/50\n",
      "840/840 [==============================] - 6s 7ms/step - loss: 0.0461 - val_loss: 0.0594\n",
      "Epoch 22/50\n",
      "840/840 [==============================] - 6s 8ms/step - loss: 0.0461 - val_loss: 0.0604\n",
      "Epoch 23/50\n",
      "840/840 [==============================] - 7s 8ms/step - loss: 0.0464 - val_loss: 0.0592\n",
      "Epoch 24/50\n",
      "840/840 [==============================] - 6s 8ms/step - loss: 0.0458 - val_loss: 0.0583\n",
      "Epoch 25/50\n",
      "840/840 [==============================] - 6s 8ms/step - loss: 0.0458 - val_loss: 0.0574\n",
      "Epoch 26/50\n",
      "840/840 [==============================] - 7s 8ms/step - loss: 0.0459 - val_loss: 0.0573\n",
      "Epoch 27/50\n",
      "840/840 [==============================] - 6s 8ms/step - loss: 0.0457 - val_loss: 0.0586\n",
      "Epoch 28/50\n",
      "840/840 [==============================] - 6s 8ms/step - loss: 0.0456 - val_loss: 0.0577\n",
      "Epoch 29/50\n",
      "840/840 [==============================] - 7s 8ms/step - loss: 0.0455 - val_loss: 0.0579\n",
      "Epoch 30/50\n",
      "840/840 [==============================] - 7s 8ms/step - loss: 0.0454 - val_loss: 0.0571\n",
      "Epoch 31/50\n",
      "840/840 [==============================] - 7s 8ms/step - loss: 0.0453 - val_loss: 0.0578\n",
      "Epoch 32/50\n",
      "840/840 [==============================] - 6s 8ms/step - loss: 0.0453 - val_loss: 0.0620\n",
      "Epoch 33/50\n",
      "840/840 [==============================] - 6s 8ms/step - loss: 0.0453 - val_loss: 0.0579\n",
      "Epoch 34/50\n",
      "840/840 [==============================] - 7s 8ms/step - loss: 0.0452 - val_loss: 0.0588\n",
      "Epoch 35/50\n",
      "840/840 [==============================] - 7s 8ms/step - loss: 0.0451 - val_loss: 0.0584\n",
      "Epoch 36/50\n",
      "840/840 [==============================] - 6s 7ms/step - loss: 0.0450 - val_loss: 0.0586\n",
      "Epoch 37/50\n",
      "840/840 [==============================] - 7s 8ms/step - loss: 0.0448 - val_loss: 0.0564\n",
      "Epoch 38/50\n",
      "840/840 [==============================] - 7s 8ms/step - loss: 0.0450 - val_loss: 0.0582\n",
      "Epoch 39/50\n",
      "840/840 [==============================] - 6s 8ms/step - loss: 0.0447 - val_loss: 0.0596\n",
      "Epoch 40/50\n",
      "840/840 [==============================] - 6s 7ms/step - loss: 0.0446 - val_loss: 0.0569\n",
      "Epoch 41/50\n",
      "840/840 [==============================] - 7s 8ms/step - loss: 0.0447 - val_loss: 0.0562\n",
      "Epoch 42/50\n",
      "840/840 [==============================] - 7s 8ms/step - loss: 0.0444 - val_loss: 0.0584\n",
      "Epoch 43/50\n",
      "840/840 [==============================] - 6s 8ms/step - loss: 0.0445 - val_loss: 0.0566\n",
      "Epoch 44/50\n",
      "840/840 [==============================] - 6s 8ms/step - loss: 0.0444 - val_loss: 0.0572\n",
      "Epoch 45/50\n",
      "840/840 [==============================] - 7s 8ms/step - loss: 0.0443 - val_loss: 0.0571\n",
      "Epoch 46/50\n",
      "840/840 [==============================] - 6s 8ms/step - loss: 0.0442 - val_loss: 0.0580\n",
      "Epoch 47/50\n",
      "840/840 [==============================] - 6s 7ms/step - loss: 0.0442 - val_loss: 0.0579\n",
      "Epoch 48/50\n",
      "840/840 [==============================] - 6s 8ms/step - loss: 0.0441 - val_loss: 0.0577\n",
      "Epoch 49/50\n",
      "840/840 [==============================] - 7s 8ms/step - loss: 0.0441 - val_loss: 0.0567\n",
      "Epoch 50/50\n",
      "840/840 [==============================] - 6s 8ms/step - loss: 0.0440 - val_loss: 0.0587\n",
      "Total Time:  5 Minutes\n"
     ]
    }
   ],
   "source": [
    "import time\n",
    "# Measuring the time taken by the model to train\n",
    "start = time.time()\n",
    "\n",
    "# Fitting the RNN to the Training Set\n",
    "history = model.fit(X_train, y_train, \n",
    "                    epochs = 50, \n",
    "                    batch_size = batch_size, \n",
    "                    validation_data = (X_test, y_test), \n",
    "                    verbose = 1, \n",
    "                    shuffle = False)\n",
    "\n",
    "end = time.time()\n",
    "print(\"Total Time: \", round((end - start)/60), 'Minutes')"
   ]
  },
  {
   "cell_type": "code",
   "execution_count": 31,
   "id": "b404e161",
   "metadata": {},
   "outputs": [
    {
     "data": {
      "image/png": "[encoded data removed]",
      "text/plain": [
       "<Figure size 576x396 with 1 Axes>"
      ]
     },
     "metadata": {},
     "output_type": "display_data"
    }
   ],
   "source": [
    "# Plot history\n",
    "plt.plot(history.history['loss'], label='train')\n",
    "plt.plot(history.history['val_loss'], label='test')\n",
    "\n",
    "plt.legend()\n",
    "plt.show()"
   ]
  },
  {
   "cell_type": "markdown",
   "id": "07de922e",
   "metadata": {},
   "source": [
    "### Comments"
   ]
  },
  {
   "cell_type": "markdown",
   "id": "72f5da46",
   "metadata": {},
   "source": [
    "The performance of the model is poor. The plot indicates that there is overfitting (our model doesn't generalize well from our training data).\n",
    "\n",
    "To overcome this issue, we could do a grid search to choose the best parameters for the model. Since this issue is not very relevant to complete this exercise, we decide not to consider it."
   ]
  },
  {
   "cell_type": "markdown",
   "id": "ef51a0e2",
   "metadata": {},
   "source": [
    "### Evaluate the Model"
   ]
  },
  {
   "cell_type": "markdown",
   "id": "77a65b6a",
   "metadata": {},
   "source": [
    "We'll first try and make a single prediction from the first X_test value.\n"
   ]
  },
  {
   "cell_type": "code",
   "execution_count": 32,
   "id": "8fd8a292",
   "metadata": {},
   "outputs": [
    {
     "data": {
      "text/plain": [
       "(20, 6)"
      ]
     },
     "execution_count": 32,
     "metadata": {},
     "output_type": "execute_result"
    }
   ],
   "source": [
    "# Check the shape of X_test[0]\n",
    "X_test[0].shape"
   ]
  },
  {
   "cell_type": "code",
   "execution_count": 33,
   "id": "50061847",
   "metadata": {},
   "outputs": [
    {
     "name": "stdout",
     "output_type": "stream",
     "text": [
      "Input shape:  (1, 20, 6)\n"
     ]
    }
   ],
   "source": [
    "# Reshape X_test[0] into 3D\n",
    "x_input = X_test[0].reshape((1, n_lags_in, n_features_in))\n",
    "print ('Input shape: ',x_input.shape)"
   ]
  },
  {
   "cell_type": "code",
   "execution_count": 34,
   "id": "8f86ab5c",
   "metadata": {},
   "outputs": [
    {
     "data": {
      "text/plain": [
       "array([[0.44925094, 0.45179182, 0.4515429 , 0.4515916 , 0.4549414 ]],\n",
       "      dtype=float32)"
      ]
     },
     "execution_count": 34,
     "metadata": {},
     "output_type": "execute_result"
    }
   ],
   "source": [
    "# Prediction\n",
    "yhat = model.predict(x_input)\n",
    "yhat"
   ]
  },
  {
   "cell_type": "code",
   "execution_count": 35,
   "id": "79cc8772",
   "metadata": {},
   "outputs": [
    {
     "name": "stdout",
     "output_type": "stream",
     "text": [
      "Output shape:  (1, 5)\n"
     ]
    }
   ],
   "source": [
    "print ('Output shape: ', yhat.shape)"
   ]
  },
  {
   "cell_type": "code",
   "execution_count": 36,
   "id": "99f5dd66",
   "metadata": {},
   "outputs": [
    {
     "data": {
      "text/plain": [
       "array([[5233.386 , 5234.9077, 5234.759 , 5234.7876, 5236.794 ]],\n",
       "      dtype=float32)"
      ]
     },
     "execution_count": 36,
     "metadata": {},
     "output_type": "execute_result"
    }
   ],
   "source": [
    "# Invert the scaling for yhat using the y_scaler from above\n",
    "inv_yhat = y_scaler.inverse_transform(yhat)\n",
    "inv_yhat"
   ]
  },
  {
   "cell_type": "code",
   "execution_count": 37,
   "id": "02dca0ee",
   "metadata": {},
   "outputs": [
    {
     "name": "stdout",
     "output_type": "stream",
     "text": [
      "(5,)\n"
     ]
    },
    {
     "data": {
      "text/plain": [
       "array([0.4607577 , 0.43781094, 0.36426305, 0.40550191, 0.34409069])"
      ]
     },
     "execution_count": 37,
     "metadata": {},
     "output_type": "execute_result"
    }
   ],
   "source": [
    "# Check the shape of y_test[0]\n",
    "print (y_test[0].shape)\n",
    "y_test[0]"
   ]
  },
  {
   "cell_type": "code",
   "execution_count": 38,
   "id": "ccdaf154",
   "metadata": {},
   "outputs": [
    {
     "data": {
      "text/plain": [
       "(1, 5)"
      ]
     },
     "execution_count": 38,
     "metadata": {},
     "output_type": "execute_result"
    }
   ],
   "source": [
    "# Reshape y_test\n",
    "inv_y = y_test[0].reshape(1, y_test[0].shape[0])\n",
    "inv_y.shape"
   ]
  },
  {
   "cell_type": "code",
   "execution_count": 39,
   "id": "9e8fc319",
   "metadata": {},
   "outputs": [
    {
     "data": {
      "text/plain": [
       "array([[5240.27635359, 5226.53637078, 5182.49760781, 5207.19047228,\n",
       "        5170.41886497]])"
      ]
     },
     "execution_count": 39,
     "metadata": {},
     "output_type": "execute_result"
    }
   ],
   "source": [
    "# Invert the scaling for y_test\n",
    "inv_y = y_scaler.inverse_transform(inv_y)\n",
    "inv_y"
   ]
  },
  {
   "cell_type": "code",
   "execution_count": 40,
   "id": "d4d9f794",
   "metadata": {},
   "outputs": [],
   "source": [
    "# inv_yhat[0].shape"
   ]
  },
  {
   "cell_type": "code",
   "execution_count": 41,
   "id": "1e1b93ec",
   "metadata": {},
   "outputs": [],
   "source": [
    "# inv_y[0].shape"
   ]
  },
  {
   "cell_type": "code",
   "execution_count": 42,
   "id": "cb0dd130",
   "metadata": {},
   "outputs": [],
   "source": [
    "# rmse = (mean_squared_error(inv_y, inv_yhat))**0.5\n",
    "\n",
    "# print ('Root Mean Squared Error:', round(rmse,2))"
   ]
  },
  {
   "cell_type": "markdown",
   "id": "c8cc84af",
   "metadata": {},
   "source": [
    "Now, we predict the entire X_test in one go."
   ]
  },
  {
   "cell_type": "code",
   "execution_count": 43,
   "id": "cb63aab6",
   "metadata": {},
   "outputs": [
    {
     "data": {
      "text/plain": [
       "(8616, 5)"
      ]
     },
     "execution_count": 43,
     "metadata": {},
     "output_type": "execute_result"
    }
   ],
   "source": [
    "# Prediction\n",
    "yhat_tot = model.predict(X_test)\n",
    "yhat_tot.shape"
   ]
  },
  {
   "cell_type": "code",
   "execution_count": 44,
   "id": "3d223aac",
   "metadata": {},
   "outputs": [
    {
     "name": "stdout",
     "output_type": "stream",
     "text": [
      "Output shape: (8616, 5)\n"
     ]
    }
   ],
   "source": [
    "# Invert scaling for yhat using y_scaler\n",
    "inv_yhat_tot = y_scaler.inverse_transform(yhat_tot)\n",
    "\n",
    "print ('Output shape:',inv_yhat_tot.shape)"
   ]
  },
  {
   "cell_type": "code",
   "execution_count": 45,
   "id": "240318a5",
   "metadata": {},
   "outputs": [],
   "source": [
    "# inv_yhat_tot[0]"
   ]
  },
  {
   "cell_type": "code",
   "execution_count": 46,
   "id": "1d160db6",
   "metadata": {},
   "outputs": [
    {
     "data": {
      "text/plain": [
       "array([5233.386 , 5240.3633, 5232.2183, ..., 5249.5933, 5231.079 ,\n",
       "       5237.5806], dtype=float32)"
      ]
     },
     "execution_count": 46,
     "metadata": {},
     "output_type": "execute_result"
    }
   ],
   "source": [
    "inv_pred_y = inv_yhat_tot[:,0]\n",
    "inv_pred_y"
   ]
  },
  {
   "cell_type": "code",
   "execution_count": 47,
   "id": "80a96d58",
   "metadata": {},
   "outputs": [
    {
     "data": {
      "text/plain": [
       "array([5240.27635359, 5226.53637078, 5182.49760781, ..., 5205.51158586,\n",
       "       5222.72087902, 5180.44723557])"
      ]
     },
     "execution_count": 47,
     "metadata": {},
     "output_type": "execute_result"
    }
   ],
   "source": [
    "# Invert the scaling for yhat using the y_scaler from above\n",
    "inv_y_tot = y_scaler.inverse_transform(y_test)\n",
    "inv_y_tot = inv_y_tot[: ,0]\n",
    "inv_y_tot"
   ]
  },
  {
   "cell_type": "code",
   "execution_count": 48,
   "id": "3817ce16",
   "metadata": {},
   "outputs": [
    {
     "data": {
      "text/plain": [
       "(8616,)"
      ]
     },
     "execution_count": 48,
     "metadata": {},
     "output_type": "execute_result"
    }
   ],
   "source": [
    "inv_y_tot.shape"
   ]
  },
  {
   "cell_type": "markdown",
   "id": "d31d29c9",
   "metadata": {},
   "source": [
    "## Errors Statistics"
   ]
  },
  {
   "cell_type": "code",
   "execution_count": 49,
   "id": "9e14aaff",
   "metadata": {},
   "outputs": [
    {
     "name": "stdout",
     "output_type": "stream",
     "text": [
      "Bearing Pressure (kPa) RMSE: 34.684\n"
     ]
    }
   ],
   "source": [
    "rmse = (mean_squared_error(inv_y_tot, inv_pred_y))**0.5\n",
    "\n",
    "print(f'Bearing Pressure (kPa) RMSE: {round(rmse,3)}')\n",
    "# print(f'Power Draw (MW)  RMSE: {round(rmse,3)}')"
   ]
  },
  {
   "cell_type": "code",
   "execution_count": 50,
   "id": "f342f8cb",
   "metadata": {},
   "outputs": [],
   "source": [
    "errors = inv_pred_y - inv_y_tot\n",
    "prex_err = pd.Series(errors)"
   ]
  },
  {
   "cell_type": "code",
   "execution_count": 51,
   "id": "2ae7d410",
   "metadata": {},
   "outputs": [
    {
     "data": {
      "image/png": "[encoded data removed]",
      "text/plain": [
       "<Figure size 576x396 with 1 Axes>"
      ]
     },
     "metadata": {},
     "output_type": "display_data"
    }
   ],
   "source": [
    "prex_err.hist(bins=31, range=(-200, 200), edgecolor=\"k\")\n",
    "plt.tight_layout()"
   ]
  },
  {
   "cell_type": "markdown",
   "id": "046614fb",
   "metadata": {},
   "source": [
    "## Result visualization"
   ]
  },
  {
   "cell_type": "code",
   "execution_count": 52,
   "id": "00a3dcf2",
   "metadata": {},
   "outputs": [],
   "source": [
    "df = df_eda[df_eda.columns].tail(20)\n",
    "df.reset_index(drop=True, inplace=True)"
   ]
  },
  {
   "cell_type": "code",
   "execution_count": 53,
   "id": "7e8d0fc8",
   "metadata": {},
   "outputs": [
    {
     "data": {
      "text/html": [
       "<div>\n",
       "<style scoped>\n",
       "    .dataframe tbody tr th:only-of-type {\n",
       "        vertical-align: middle;\n",
       "    }\n",
       "\n",
       "    .dataframe tbody tr th {\n",
       "        vertical-align: top;\n",
       "    }\n",
       "\n",
       "    .dataframe thead th {\n",
       "        text-align: right;\n",
       "    }\n",
       "</style>\n",
       "<table border=\"1\" class=\"dataframe\">\n",
       "  <thead>\n",
       "    <tr style=\"text-align: right;\">\n",
       "      <th></th>\n",
       "      <th>Bearing Pressure (kPa)</th>\n",
       "    </tr>\n",
       "  </thead>\n",
       "  <tbody>\n",
       "    <tr>\n",
       "      <th>0</th>\n",
       "      <td>5233.386230</td>\n",
       "    </tr>\n",
       "    <tr>\n",
       "      <th>1</th>\n",
       "      <td>5234.907715</td>\n",
       "    </tr>\n",
       "    <tr>\n",
       "      <th>2</th>\n",
       "      <td>5234.758789</td>\n",
       "    </tr>\n",
       "    <tr>\n",
       "      <th>3</th>\n",
       "      <td>5234.787598</td>\n",
       "    </tr>\n",
       "    <tr>\n",
       "      <th>4</th>\n",
       "      <td>5236.793945</td>\n",
       "    </tr>\n",
       "  </tbody>\n",
       "</table>\n",
       "</div>"
      ],
      "text/plain": [
       "   Bearing Pressure (kPa)\n",
       "0             5233.386230\n",
       "1             5234.907715\n",
       "2             5234.758789\n",
       "3             5234.787598\n",
       "4             5236.793945"
      ]
     },
     "execution_count": 53,
     "metadata": {},
     "output_type": "execute_result"
    }
   ],
   "source": [
    "prex_df = pd.DataFrame(inv_yhat.T, columns=['Bearing Pressure (kPa)'])\n",
    "prex_df"
   ]
  },
  {
   "cell_type": "code",
   "execution_count": 54,
   "id": "2cf2e5c2",
   "metadata": {},
   "outputs": [
    {
     "data": {
      "text/html": [
       "<div>\n",
       "<style scoped>\n",
       "    .dataframe tbody tr th:only-of-type {\n",
       "        vertical-align: middle;\n",
       "    }\n",
       "\n",
       "    .dataframe tbody tr th {\n",
       "        vertical-align: top;\n",
       "    }\n",
       "\n",
       "    .dataframe thead th {\n",
       "        text-align: right;\n",
       "    }\n",
       "</style>\n",
       "<table border=\"1\" class=\"dataframe\">\n",
       "  <thead>\n",
       "    <tr style=\"text-align: right;\">\n",
       "      <th></th>\n",
       "      <th>Bearing Pressure (kPa)</th>\n",
       "      <th>Power Draw (MW)</th>\n",
       "      <th>Speed (RPM)</th>\n",
       "      <th>Dilution Flow Rate (m3/h)</th>\n",
       "      <th>Conveyor Belt Feed Rate (t/h)</th>\n",
       "      <th>Conveyor Belt PSD Fines (%)</th>\n",
       "    </tr>\n",
       "  </thead>\n",
       "  <tbody>\n",
       "    <tr>\n",
       "      <th>0</th>\n",
       "      <td>5226.687945</td>\n",
       "      <td>13.792963</td>\n",
       "      <td>8.605374</td>\n",
       "      <td>894.526064</td>\n",
       "      <td>2662.211719</td>\n",
       "      <td>38.448288</td>\n",
       "    </tr>\n",
       "    <tr>\n",
       "      <th>1</th>\n",
       "      <td>5194.255639</td>\n",
       "      <td>13.926023</td>\n",
       "      <td>8.622645</td>\n",
       "      <td>966.936009</td>\n",
       "      <td>2668.865003</td>\n",
       "      <td>38.210907</td>\n",
       "    </tr>\n",
       "    <tr>\n",
       "      <th>2</th>\n",
       "      <td>5217.482121</td>\n",
       "      <td>14.036532</td>\n",
       "      <td>8.721505</td>\n",
       "      <td>926.581224</td>\n",
       "      <td>2656.647339</td>\n",
       "      <td>37.343918</td>\n",
       "    </tr>\n",
       "    <tr>\n",
       "      <th>3</th>\n",
       "      <td>5220.366110</td>\n",
       "      <td>14.036866</td>\n",
       "      <td>8.714745</td>\n",
       "      <td>902.707493</td>\n",
       "      <td>2653.069154</td>\n",
       "      <td>39.782646</td>\n",
       "    </tr>\n",
       "    <tr>\n",
       "      <th>4</th>\n",
       "      <td>5178.873228</td>\n",
       "      <td>14.009403</td>\n",
       "      <td>8.707571</td>\n",
       "      <td>913.374372</td>\n",
       "      <td>2668.675722</td>\n",
       "      <td>42.357128</td>\n",
       "    </tr>\n",
       "    <tr>\n",
       "      <th>5</th>\n",
       "      <td>5246.019610</td>\n",
       "      <td>14.041437</td>\n",
       "      <td>8.636298</td>\n",
       "      <td>955.526074</td>\n",
       "      <td>2641.592963</td>\n",
       "      <td>41.161613</td>\n",
       "    </tr>\n",
       "    <tr>\n",
       "      <th>6</th>\n",
       "      <td>5202.400444</td>\n",
       "      <td>13.856403</td>\n",
       "      <td>8.620456</td>\n",
       "      <td>908.149349</td>\n",
       "      <td>2672.420547</td>\n",
       "      <td>44.644703</td>\n",
       "    </tr>\n",
       "    <tr>\n",
       "      <th>7</th>\n",
       "      <td>5231.977061</td>\n",
       "      <td>13.876529</td>\n",
       "      <td>8.609664</td>\n",
       "      <td>960.181175</td>\n",
       "      <td>2701.484842</td>\n",
       "      <td>33.692871</td>\n",
       "    </tr>\n",
       "    <tr>\n",
       "      <th>8</th>\n",
       "      <td>5191.135840</td>\n",
       "      <td>13.824024</td>\n",
       "      <td>8.616953</td>\n",
       "      <td>932.075269</td>\n",
       "      <td>2612.006607</td>\n",
       "      <td>45.834385</td>\n",
       "    </tr>\n",
       "    <tr>\n",
       "      <th>9</th>\n",
       "      <td>5222.697323</td>\n",
       "      <td>13.867555</td>\n",
       "      <td>8.615253</td>\n",
       "      <td>943.694711</td>\n",
       "      <td>2656.709100</td>\n",
       "      <td>32.163284</td>\n",
       "    </tr>\n",
       "    <tr>\n",
       "      <th>10</th>\n",
       "      <td>5197.688908</td>\n",
       "      <td>13.937680</td>\n",
       "      <td>8.606072</td>\n",
       "      <td>1007.909161</td>\n",
       "      <td>2606.287905</td>\n",
       "      <td>41.134739</td>\n",
       "    </tr>\n",
       "    <tr>\n",
       "      <th>11</th>\n",
       "      <td>5200.474511</td>\n",
       "      <td>13.861060</td>\n",
       "      <td>8.609289</td>\n",
       "      <td>1014.719846</td>\n",
       "      <td>2669.729834</td>\n",
       "      <td>39.285927</td>\n",
       "    </tr>\n",
       "    <tr>\n",
       "      <th>12</th>\n",
       "      <td>5234.437874</td>\n",
       "      <td>13.951422</td>\n",
       "      <td>8.618044</td>\n",
       "      <td>1041.769893</td>\n",
       "      <td>2644.839032</td>\n",
       "      <td>35.190849</td>\n",
       "    </tr>\n",
       "    <tr>\n",
       "      <th>13</th>\n",
       "      <td>5205.511586</td>\n",
       "      <td>13.854852</td>\n",
       "      <td>8.627219</td>\n",
       "      <td>984.802457</td>\n",
       "      <td>2698.445533</td>\n",
       "      <td>40.445553</td>\n",
       "    </tr>\n",
       "    <tr>\n",
       "      <th>14</th>\n",
       "      <td>5222.720879</td>\n",
       "      <td>13.878675</td>\n",
       "      <td>8.612107</td>\n",
       "      <td>1043.558486</td>\n",
       "      <td>2624.685070</td>\n",
       "      <td>42.190308</td>\n",
       "    </tr>\n",
       "    <tr>\n",
       "      <th>15</th>\n",
       "      <td>5180.447236</td>\n",
       "      <td>13.889173</td>\n",
       "      <td>8.609995</td>\n",
       "      <td>1052.922543</td>\n",
       "      <td>2695.421540</td>\n",
       "      <td>40.853775</td>\n",
       "    </tr>\n",
       "    <tr>\n",
       "      <th>16</th>\n",
       "      <td>5182.558287</td>\n",
       "      <td>13.845209</td>\n",
       "      <td>8.607400</td>\n",
       "      <td>1065.426875</td>\n",
       "      <td>2640.853654</td>\n",
       "      <td>40.898125</td>\n",
       "    </tr>\n",
       "    <tr>\n",
       "      <th>17</th>\n",
       "      <td>5226.243211</td>\n",
       "      <td>13.705972</td>\n",
       "      <td>8.604805</td>\n",
       "      <td>1075.829229</td>\n",
       "      <td>2669.391060</td>\n",
       "      <td>41.102623</td>\n",
       "    </tr>\n",
       "    <tr>\n",
       "      <th>18</th>\n",
       "      <td>5206.353276</td>\n",
       "      <td>13.725138</td>\n",
       "      <td>8.610618</td>\n",
       "      <td>1066.410568</td>\n",
       "      <td>2650.798621</td>\n",
       "      <td>35.960464</td>\n",
       "    </tr>\n",
       "    <tr>\n",
       "      <th>19</th>\n",
       "      <td>5221.542828</td>\n",
       "      <td>13.731569</td>\n",
       "      <td>8.608507</td>\n",
       "      <td>1008.432803</td>\n",
       "      <td>2674.106924</td>\n",
       "      <td>41.899677</td>\n",
       "    </tr>\n",
       "    <tr>\n",
       "      <th>20</th>\n",
       "      <td>5233.386230</td>\n",
       "      <td>NaN</td>\n",
       "      <td>NaN</td>\n",
       "      <td>NaN</td>\n",
       "      <td>NaN</td>\n",
       "      <td>NaN</td>\n",
       "    </tr>\n",
       "    <tr>\n",
       "      <th>21</th>\n",
       "      <td>5234.907715</td>\n",
       "      <td>NaN</td>\n",
       "      <td>NaN</td>\n",
       "      <td>NaN</td>\n",
       "      <td>NaN</td>\n",
       "      <td>NaN</td>\n",
       "    </tr>\n",
       "    <tr>\n",
       "      <th>22</th>\n",
       "      <td>5234.758789</td>\n",
       "      <td>NaN</td>\n",
       "      <td>NaN</td>\n",
       "      <td>NaN</td>\n",
       "      <td>NaN</td>\n",
       "      <td>NaN</td>\n",
       "    </tr>\n",
       "    <tr>\n",
       "      <th>23</th>\n",
       "      <td>5234.787598</td>\n",
       "      <td>NaN</td>\n",
       "      <td>NaN</td>\n",
       "      <td>NaN</td>\n",
       "      <td>NaN</td>\n",
       "      <td>NaN</td>\n",
       "    </tr>\n",
       "    <tr>\n",
       "      <th>24</th>\n",
       "      <td>5236.793945</td>\n",
       "      <td>NaN</td>\n",
       "      <td>NaN</td>\n",
       "      <td>NaN</td>\n",
       "      <td>NaN</td>\n",
       "      <td>NaN</td>\n",
       "    </tr>\n",
       "  </tbody>\n",
       "</table>\n",
       "</div>"
      ],
      "text/plain": [
       "    Bearing Pressure (kPa)  Power Draw (MW)  Speed (RPM)  \\\n",
       "0              5226.687945        13.792963     8.605374   \n",
       "1              5194.255639        13.926023     8.622645   \n",
       "2              5217.482121        14.036532     8.721505   \n",
       "3              5220.366110        14.036866     8.714745   \n",
       "4              5178.873228        14.009403     8.707571   \n",
       "5              5246.019610        14.041437     8.636298   \n",
       "6              5202.400444        13.856403     8.620456   \n",
       "7              5231.977061        13.876529     8.609664   \n",
       "8              5191.135840        13.824024     8.616953   \n",
       "9              5222.697323        13.867555     8.615253   \n",
       "10             5197.688908        13.937680     8.606072   \n",
       "11             5200.474511        13.861060     8.609289   \n",
       "12             5234.437874        13.951422     8.618044   \n",
       "13             5205.511586        13.854852     8.627219   \n",
       "14             5222.720879        13.878675     8.612107   \n",
       "15             5180.447236        13.889173     8.609995   \n",
       "16             5182.558287        13.845209     8.607400   \n",
       "17             5226.243211        13.705972     8.604805   \n",
       "18             5206.353276        13.725138     8.610618   \n",
       "19             5221.542828        13.731569     8.608507   \n",
       "20             5233.386230              NaN          NaN   \n",
       "21             5234.907715              NaN          NaN   \n",
       "22             5234.758789              NaN          NaN   \n",
       "23             5234.787598              NaN          NaN   \n",
       "24             5236.793945              NaN          NaN   \n",
       "\n",
       "    Dilution Flow Rate (m3/h)  Conveyor Belt Feed Rate (t/h)  \\\n",
       "0                  894.526064                    2662.211719   \n",
       "1                  966.936009                    2668.865003   \n",
       "2                  926.581224                    2656.647339   \n",
       "3                  902.707493                    2653.069154   \n",
       "4                  913.374372                    2668.675722   \n",
       "5                  955.526074                    2641.592963   \n",
       "6                  908.149349                    2672.420547   \n",
       "7                  960.181175                    2701.484842   \n",
       "8                  932.075269                    2612.006607   \n",
       "9                  943.694711                    2656.709100   \n",
       "10                1007.909161                    2606.287905   \n",
       "11                1014.719846                    2669.729834   \n",
       "12                1041.769893                    2644.839032   \n",
       "13                 984.802457                    2698.445533   \n",
       "14                1043.558486                    2624.685070   \n",
       "15                1052.922543                    2695.421540   \n",
       "16                1065.426875                    2640.853654   \n",
       "17                1075.829229                    2669.391060   \n",
       "18                1066.410568                    2650.798621   \n",
       "19                1008.432803                    2674.106924   \n",
       "20                        NaN                            NaN   \n",
       "21                        NaN                            NaN   \n",
       "22                        NaN                            NaN   \n",
       "23                        NaN                            NaN   \n",
       "24                        NaN                            NaN   \n",
       "\n",
       "    Conveyor Belt PSD Fines (%)  \n",
       "0                     38.448288  \n",
       "1                     38.210907  \n",
       "2                     37.343918  \n",
       "3                     39.782646  \n",
       "4                     42.357128  \n",
       "5                     41.161613  \n",
       "6                     44.644703  \n",
       "7                     33.692871  \n",
       "8                     45.834385  \n",
       "9                     32.163284  \n",
       "10                    41.134739  \n",
       "11                    39.285927  \n",
       "12                    35.190849  \n",
       "13                    40.445553  \n",
       "14                    42.190308  \n",
       "15                    40.853775  \n",
       "16                    40.898125  \n",
       "17                    41.102623  \n",
       "18                    35.960464  \n",
       "19                    41.899677  \n",
       "20                          NaN  \n",
       "21                          NaN  \n",
       "22                          NaN  \n",
       "23                          NaN  \n",
       "24                          NaN  "
      ]
     },
     "execution_count": 54,
     "metadata": {},
     "output_type": "execute_result"
    }
   ],
   "source": [
    "fin_df = pd.concat([df, prex_df], axis=0)\n",
    "fin_df.reset_index(drop=True, inplace=True)\n",
    "fin_df"
   ]
  },
  {
   "cell_type": "code",
   "execution_count": 55,
   "id": "9b4bda42",
   "metadata": {},
   "outputs": [
    {
     "data": {
      "image/png": "[encoded data removed]",
      "text/plain": [
       "<Figure size 1080x576 with 6 Axes>"
      ]
     },
     "metadata": {},
     "output_type": "display_data"
    }
   ],
   "source": [
    "fin_df.plot(subplots=True, marker = 'o', figsize=(15, 8))\n",
    "\n",
    "plt.tight_layout()\n",
    "plt.show()"
   ]
  },
  {
   "cell_type": "markdown",
   "id": "db82e002",
   "metadata": {},
   "source": [
    "## Conclusions"
   ]
  },
  {
   "cell_type": "markdown",
   "id": "04e4977d",
   "metadata": {},
   "source": [
    "- The error and prediction of the pressure setup using 20 minutes of history inputs confirm the indication given in the baseline.\n",
    "\n",
    "- As said, the model prediction is poor due to an overfitting issue that we decide not to solve in this exercise.\n",
    "\n",
    "- Unfortunately, we haven't been able to extract power data."
   ]
  },
  {
   "cell_type": "markdown",
   "id": "6a80364f",
   "metadata": {},
   "source": [
    "## References"
   ]
  },
  {
   "cell_type": "markdown",
   "id": "dc6ddcca",
   "metadata": {},
   "source": [
    "- https://machinelearningmastery.com/\n",
    "\n",
    "- https://medium.com/analytics-vidhya/multi-step-lstm-time-series-forecasting-bf82889ed173"
   ]
  },
  {
   "cell_type": "code",
   "execution_count": null,
   "id": "24ce07c0",
   "metadata": {},
   "outputs": [],
   "source": []
  }
 ],
 "metadata": {
  "kernelspec": {
   "display_name": "Python 3",
   "language": "python",
   "name": "python3"
  },
  "language_info": {
   "codemirror_mode": {
    "name": "ipython",
    "version": 3
   },
   "file_extension": ".py",
   "mimetype": "text/x-python",
   "name": "python",
   "nbconvert_exporter": "python",
   "pygments_lexer": "ipython3",
   "version": "3.8.8"
  }
 },
 "nbformat": 4,
 "nbformat_minor": 5
}
